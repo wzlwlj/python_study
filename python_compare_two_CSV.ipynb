{
  "nbformat": 4,
  "nbformat_minor": 0,
  "metadata": {
    "colab": {
      "name": "python_compare_two_CSV.ipynb",
      "provenance": [],
      "authorship_tag": "ABX9TyOFDwA2cZzLOw7tpy8iGter",
      "include_colab_link": true
    },
    "kernelspec": {
      "name": "python3",
      "display_name": "Python 3"
    },
    "language_info": {
      "name": "python"
    }
  },
  "cells": [
    {
      "cell_type": "markdown",
      "metadata": {
        "id": "view-in-github",
        "colab_type": "text"
      },
      "source": [
        "<a href=\"https://colab.research.google.com/github/wzlwlj/python_study/blob/BSBCNC/python_compare_two_CSV.ipynb\" target=\"_parent\"><img src=\"https://colab.research.google.com/assets/colab-badge.svg\" alt=\"Open In Colab\"/></a>"
      ]
    },
    {
      "cell_type": "code",
      "execution_count": 2,
      "metadata": {
        "colab": {
          "base_uri": "https://localhost:8080/"
        },
        "id": "NoXswye9B3Zy",
        "outputId": "6610646f-fa70-4609-c37e-2b924d2917c2"
      },
      "outputs": [
        {
          "output_type": "stream",
          "name": "stdout",
          "text": [
            "   x1 x2  x3\n",
            "0   0  x   2\n",
            "1   1  y   3\n",
            "2   2  x   4\n",
            "3   3  x   5\n",
            "4   4  y   6\n",
            "5   5  x   7\n",
            "   x1 x2  x3\n",
            "0   3  x   5\n",
            "1   4  x   6\n",
            "2   5  x   7\n",
            "3   6  y   8\n",
            "4   7  y   9\n"
          ]
        }
      ],
      "source": [
        "### example of comparing two CSV files and print the difference\n",
        "\n",
        "### create two example csv files\n",
        "import pandas as pd\n",
        "\n",
        "data1 = pd.DataFrame({'x1':range(0, 6),             \n",
        "                      'x2':['x', 'y', 'x', 'x', 'y', 'x'],\n",
        "                      'x3':range(2, 8)})\n",
        "print(data1)       \n",
        "\n",
        "data2 = pd.DataFrame({'x1':range(3, 8),             \n",
        "                      'x2':['x', 'x', 'x', 'y', 'y'],\n",
        "                      'x3':range(5, 10)})\n",
        "print(data2)        \n",
        "\n",
        "data1.to_csv('data1.csv', index = False)       \n",
        "data2.to_csv('data2.csv', index = False)"
      ]
    },
    {
      "cell_type": "code",
      "source": [
        "### import two csv files\n",
        "\n",
        "with open('data1.csv', 'r') as csv1, open('data2.csv', 'r') as csv2:  \n",
        "    import1 = csv1.readlines()\n",
        "    import2 = csv2.readlines()\n",
        "\n",
        "print(import1)\n",
        "print(import2)"
      ],
      "metadata": {
        "colab": {
          "base_uri": "https://localhost:8080/"
        },
        "id": "xBatkMQGCU0W",
        "outputId": "ae403dac-e5e8-4628-b6f4-63106b21e71f"
      },
      "execution_count": 6,
      "outputs": [
        {
          "output_type": "stream",
          "name": "stdout",
          "text": [
            "['x1,x2,x3\\n', '0,x,2\\n', '1,y,3\\n', '2,x,4\\n', '3,x,5\\n', '4,y,6\\n', '5,x,7\\n']\n",
            "['x1,x2,x3\\n', '3,x,5\\n', '4,x,6\\n', '5,x,7\\n', '6,y,8\\n', '7,y,9\\n']\n"
          ]
        }
      ]
    },
    {
      "cell_type": "code",
      "source": [
        "### compare two csv file and print difference\n",
        "with open('data_diff.csv', 'w') as outFile: \n",
        "    for row in import2:\n",
        "        if row not in import1:\n",
        "            outFile.write(row)\n",
        "            print(row)\n",
        "\n"
      ],
      "metadata": {
        "colab": {
          "base_uri": "https://localhost:8080/"
        },
        "id": "a0B24k3UC2ON",
        "outputId": "baa7a860-4923-4982-e190-e745d2f20bff"
      },
      "execution_count": 8,
      "outputs": [
        {
          "output_type": "stream",
          "name": "stdout",
          "text": [
            "4,x,6\n",
            "\n",
            "6,y,8\n",
            "\n",
            "7,y,9\n",
            "\n"
          ]
        }
      ]
    },
    {
      "cell_type": "code",
      "source": [
        "### \n",
        "out = pd.read_csv('data_diff.csv', header=None)\n",
        "print(out)"
      ],
      "metadata": {
        "colab": {
          "base_uri": "https://localhost:8080/"
        },
        "id": "11UUwunlD5Ne",
        "outputId": "5f7508d5-2d73-4997-88a4-de8cc5a4a168"
      },
      "execution_count": 14,
      "outputs": [
        {
          "output_type": "stream",
          "name": "stdout",
          "text": [
            "   0  1  2\n",
            "0  4  x  6\n",
            "1  6  y  8\n",
            "2  7  y  9\n"
          ]
        }
      ]
    }
  ]
}