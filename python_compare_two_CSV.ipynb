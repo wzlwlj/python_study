{
  "nbformat": 4,
  "nbformat_minor": 0,
  "metadata": {
    "colab": {
      "name": "python_compare_two_CSV.ipynb",
      "provenance": [],
      "mount_file_id": "13-N1wXMSwRZTINaIJh_6k3g7f6hQ-d1d",
      "authorship_tag": "ABX9TyOLpnvrTIkARGs/3f4H6ij3",
      "include_colab_link": true
    },
    "kernelspec": {
      "name": "python3",
      "display_name": "Python 3"
    },
    "language_info": {
      "name": "python"
    }
  },
  "cells": [
    {
      "cell_type": "markdown",
      "metadata": {
        "id": "view-in-github",
        "colab_type": "text"
      },
      "source": [
        "<a href=\"https://colab.research.google.com/github/wzlwlj/python_study/blob/main/python_compare_two_CSV.ipynb\" target=\"_parent\"><img src=\"https://colab.research.google.com/assets/colab-badge.svg\" alt=\"Open In Colab\"/></a>"
      ]
    },
    {
      "cell_type": "code",
      "execution_count": 15,
      "metadata": {
        "colab": {
          "base_uri": "https://localhost:8080/"
        },
        "id": "NoXswye9B3Zy",
        "outputId": "ebbdf78c-c12a-4d28-ce5d-bf0d0e8e2e46"
      },
      "outputs": [
        {
          "output_type": "stream",
          "name": "stdout",
          "text": [
            "   x1 x2  x3\n",
            "0   0  x   2\n",
            "1   1  y   3\n",
            "2   2  x   4\n",
            "3   3  x   5\n",
            "4   4  y   6\n",
            "5   5  x   7\n",
            "   x1 x2  x3\n",
            "0   3  x   5\n",
            "1   4  x   6\n",
            "2   5  x   7\n",
            "3   6  y   8\n",
            "4   7  y   9\n"
          ]
        }
      ],
      "source": [
        "### example of comparing two CSV files and print the difference\n",
        "\n",
        "### create two example csv files\n",
        "import pandas as pd\n",
        "\n",
        "data1 = pd.DataFrame({'x1':range(0, 6),             \n",
        "                      'x2':['x', 'y', 'x', 'x', 'y', 'x'],\n",
        "                      'x3':range(2, 8)})\n",
        "print(data1)       \n",
        "\n",
        "data2 = pd.DataFrame({'x1':range(3, 8),             \n",
        "                      'x2':['x', 'x', 'x', 'y', 'y'],\n",
        "                      'x3':range(5, 10)})\n",
        "print(data2)        \n",
        "\n",
        "data1.to_csv('data1.csv', index = False)       \n",
        "data2.to_csv('data2.csv', index = False)"
      ]
    },
    {
      "cell_type": "code",
      "source": [
        "### import two csv files\n",
        "\n",
        "with open('data1.csv', 'r') as csv1, open('data2.csv', 'r') as csv2:  \n",
        "    import1 = csv1.readlines()\n",
        "    import2 = csv2.readlines()\n",
        "\n",
        "print(import1)\n",
        "print(import2)"
      ],
      "metadata": {
        "colab": {
          "base_uri": "https://localhost:8080/"
        },
        "id": "xBatkMQGCU0W",
        "outputId": "a1f3fd72-7f6c-4e59-bf1f-2af6c640ed3a"
      },
      "execution_count": 17,
      "outputs": [
        {
          "output_type": "stream",
          "name": "stdout",
          "text": [
            "['x1,x2,x3\\n', '0,x,2\\n', '1,y,3\\n', '2,x,4\\n', '3,x,5\\n', '4,y,6\\n', '5,x,7\\n']\n",
            "['x1,x2,x3\\n', '3,x,5\\n', '4,x,6\\n', '5,x,7\\n', '6,y,8\\n', '7,y,9\\n']\n"
          ]
        }
      ]
    },
    {
      "cell_type": "code",
      "source": [
        "### compare two csv file and print difference\n",
        "with open('data_diff.csv', 'w') as outFile: \n",
        "    for row in import2:\n",
        "        if row not in import1:\n",
        "            outFile.write(row)\n",
        "            print(row)\n",
        "\n"
      ],
      "metadata": {
        "colab": {
          "base_uri": "https://localhost:8080/"
        },
        "id": "a0B24k3UC2ON",
        "outputId": "e9623239-d718-4563-ac29-63470c13700a"
      },
      "execution_count": 19,
      "outputs": [
        {
          "output_type": "stream",
          "name": "stdout",
          "text": [
            "4,x,6\n",
            "\n",
            "6,y,8\n",
            "\n",
            "7,y,9\n",
            "\n"
          ]
        }
      ]
    },
    {
      "cell_type": "code",
      "source": [
        "### \n",
        "out = pd.read_csv('data_diff.csv', header=None)\n",
        "print(out)"
      ],
      "metadata": {
        "colab": {
          "base_uri": "https://localhost:8080/"
        },
        "id": "11UUwunlD5Ne",
        "outputId": "ea55e692-9643-4efd-87d8-b570a004d663"
      },
      "execution_count": 20,
      "outputs": [
        {
          "output_type": "stream",
          "name": "stdout",
          "text": [
            "   0  1  2\n",
            "0  4  x  6\n",
            "1  6  y  8\n",
            "2  7  y  9\n"
          ]
        }
      ]
    },
    {
      "cell_type": "code",
      "source": [
        "import os\n",
        "# dir_name = \"/content/drive/mydrive/colabe notebooks/bcbsnc\"\n",
        "from google.colab import drive\n",
        "drive.mount('/content/drive')"
      ],
      "metadata": {
        "colab": {
          "base_uri": "https://localhost:8080/"
        },
        "id": "myLalyFIB6M6",
        "outputId": "3cdfc061-1c42-49d3-abad-8e4e5fa2c097"
      },
      "execution_count": 21,
      "outputs": [
        {
          "output_type": "stream",
          "name": "stdout",
          "text": [
            "Drive already mounted at /content/drive; to attempt to forcibly remount, call drive.mount(\"/content/drive\", force_remount=True).\n"
          ]
        }
      ]
    },
    {
      "cell_type": "code",
      "source": [
        "# read a file\n",
        "dir_name = \"/content/drive/MyDrive/Colab Notebooks/BCBSNC/Teradata\"\n",
        "# dir_name = \"/content/drive/MyDrive/Colab\"\n",
        "print(os.listdir(dir_name))"
      ],
      "metadata": {
        "colab": {
          "base_uri": "https://localhost:8080/"
        },
        "id": "zY5Vv3M5DYhz",
        "outputId": "9df5c0f2-b5aa-4273-b411-a2c13c229d7e"
      },
      "execution_count": 28,
      "outputs": [
        {
          "output_type": "stream",
          "name": "stdout",
          "text": [
            "['zillow.csv', 'homes.csv', 'cities.csv', 'biostats.csv']\n"
          ]
        }
      ]
    },
    {
      "cell_type": "code",
      "source": [
        "### BCBSNC validation sample\n",
        "\n",
        "#import os\n",
        "dir_name_teradata = \"/content/drive/MyDrive/Colab Notebooks/BCBSNC/Teradata\"\n",
        "dir_name_snowflake = \"/content/drive/MyDrive/Colab Notebooks/BCBSNC/Snowflake\"\n",
        "dir_name_output = \"/content/drive/MyDrive/Colab Notebooks/BCBSNC/output\"\n",
        "\n",
        "df_valid = pd.DataFrame()\n",
        "\n",
        "# specifying an empty list for content\n",
        "content_teradata = []\n",
        "for file in os.listdir(dir_name_teradata):\n",
        "  # print(dir_name_teradata+'/'+file)\n",
        "  df_teradata = pd.read_csv(dir_name_teradata+'/'+file)\n",
        "  #print(df_teradata)\n",
        "  df_snowflake = pd.read_csv(dir_name_snowflake+'/'+file)\n",
        "  #print(df_snowflake)\n",
        "\n",
        "  ## compare the same data from the runs of teradata and snowflake\n",
        "  # check row number \n",
        "  nrow_teradata = df_teradata.shape[0]\n",
        "  print(nrow_teradata)\n",
        "  nrow_snowflake = df_snowflake.shape[0]\n",
        "  print(nrow_snowflake)\n",
        "  # check col number\n",
        "  ncol_teradata = df_teradata.shape[1]\n",
        "  print(ncol_teradata)\n",
        "  ncol_snowflake = df_snowflake.shape[1]\n",
        "  print(ncol_snowflake)\n",
        "  # check col name\n",
        "  col_name_teradata = df_teradata.columns.values.tolist()\n",
        "  print(col_name_teradata)\n",
        "  col_name_snowflake = df_snowflake.columns.values.tolist()\n",
        "  print(col_name_snowflake)\n",
        "\n",
        "  validate_snowflake = 'Pass'\n",
        "  if (nrow_teradata != nrow_snowflake or ncol_teradata != ncol_snowflake or col_name_teradata != col_name_snowflake):\n",
        "    validate_snowflake = 'Fail'\n",
        "\n",
        "  item_compare = (['file', 'input', 'row number', 'col number', 'col names', 'validataion'])\n",
        "  # print(item_compare)\n",
        "  item_teradata = ([file,'teradata', nrow_teradata,ncol_teradata,col_name_teradata,''])\n",
        "  item_snowflake = ([file,'snowflake', nrow_snowflake,ncol_snowflake,col_name_snowflake, validate_snowflake])\n",
        "  output = pd.DataFrame([item_compare, item_teradata, item_snowflake])\n",
        "  print(output)\n",
        "  df_valid = pd.concat([df_valid, output], ignore_index=True)\n",
        "  print(df_valid)\n",
        "\n",
        "\n",
        "df_valid.to_csv(dir_name_output+'/validation.csv')\n",
        "\n",
        "\n"
      ],
      "metadata": {
        "colab": {
          "base_uri": "https://localhost:8080/"
        },
        "id": "mxLy91aYpCDT",
        "outputId": "8282ff05-b46b-4293-8cf7-5fde9fa4310b"
      },
      "execution_count": 64,
      "outputs": [
        {
          "output_type": "stream",
          "name": "stdout",
          "text": [
            "20\n",
            "20\n",
            "7\n",
            "7\n",
            "['Index', ' \"Living Space (sq ft)\"', ' \"Beds\"', ' \"Baths\"', ' \"Zip\"', ' \"Year\"', ' \"List Price ($)\"']\n",
            "['Index', ' \"Living Space\"', ' \"Beds\"', ' \"Baths\"', ' \"Zip\"', ' \"Year\"', ' \"List Price ($)\"']\n",
            "            0          1           2           3  \\\n",
            "0        file      input  row number  col number   \n",
            "1  zillow.csv   teradata          20           7   \n",
            "2  zillow.csv  snowflake          20           7   \n",
            "\n",
            "                                                   4            5  \n",
            "0                                          col names  validataion  \n",
            "1  [Index,  \"Living Space (sq ft)\",  \"Beds\",  \"Ba...               \n",
            "2  [Index,  \"Living Space\",  \"Beds\",  \"Baths\",  \"...         Fail  \n",
            "            0          1           2           3  \\\n",
            "0        file      input  row number  col number   \n",
            "1  zillow.csv   teradata          20           7   \n",
            "2  zillow.csv  snowflake          20           7   \n",
            "\n",
            "                                                   4            5  \n",
            "0                                          col names  validataion  \n",
            "1  [Index,  \"Living Space (sq ft)\",  \"Beds\",  \"Ba...               \n",
            "2  [Index,  \"Living Space\",  \"Beds\",  \"Baths\",  \"...         Fail  \n",
            "50\n",
            "50\n",
            "9\n",
            "9\n",
            "['Sell', ' \"List\"', ' \"Living\"', ' \"Rooms\"', ' \"Beds\"', ' \"Baths\"', ' \"Age\"', ' \"Acres\"', ' \"Taxes\"']\n",
            "['Sell', ' \"List\"', ' \"Living\"', ' \"Rooms\"', ' \"Beds\"', ' \"Baths\"', ' \"Age\"', ' \"Acres\"', ' \"Taxes\"']\n",
            "           0          1           2           3  \\\n",
            "0       file      input  row number  col number   \n",
            "1  homes.csv   teradata          50           9   \n",
            "2  homes.csv  snowflake          50           9   \n",
            "\n",
            "                                                   4            5  \n",
            "0                                          col names  validataion  \n",
            "1  [Sell,  \"List\",  \"Living\",  \"Rooms\",  \"Beds\", ...               \n",
            "2  [Sell,  \"List\",  \"Living\",  \"Rooms\",  \"Beds\", ...         Pass  \n",
            "            0          1           2           3  \\\n",
            "0        file      input  row number  col number   \n",
            "1  zillow.csv   teradata          20           7   \n",
            "2  zillow.csv  snowflake          20           7   \n",
            "3        file      input  row number  col number   \n",
            "4   homes.csv   teradata          50           9   \n",
            "5   homes.csv  snowflake          50           9   \n",
            "\n",
            "                                                   4            5  \n",
            "0                                          col names  validataion  \n",
            "1  [Index,  \"Living Space (sq ft)\",  \"Beds\",  \"Ba...               \n",
            "2  [Index,  \"Living Space\",  \"Beds\",  \"Baths\",  \"...         Fail  \n",
            "3                                          col names  validataion  \n",
            "4  [Sell,  \"List\",  \"Living\",  \"Rooms\",  \"Beds\", ...               \n",
            "5  [Sell,  \"List\",  \"Living\",  \"Rooms\",  \"Beds\", ...         Pass  \n",
            "128\n",
            "126\n",
            "10\n",
            "10\n",
            "['LatD', ' \"LatM\"', ' \"LatS\"', ' \"NS\"', ' \"LonD\"', ' \"LonM\"', ' \"LonS\"', ' \"EW\"', ' \"City\"', ' \"State\"']\n",
            "['LatD', ' \"LatM\"', ' \"LatS\"', ' \"NS\"', ' \"LonD\"', ' \"LonM\"', ' \"LonS\"', ' \"EW\"', ' \"City\"', ' \"State\"']\n",
            "            0          1           2           3  \\\n",
            "0        file      input  row number  col number   \n",
            "1  cities.csv   teradata         128          10   \n",
            "2  cities.csv  snowflake         126          10   \n",
            "\n",
            "                                                   4            5  \n",
            "0                                          col names  validataion  \n",
            "1  [LatD,  \"LatM\",  \"LatS\",  \"NS\",  \"LonD\",  \"Lon...               \n",
            "2  [LatD,  \"LatM\",  \"LatS\",  \"NS\",  \"LonD\",  \"Lon...         Fail  \n",
            "            0          1           2           3  \\\n",
            "0        file      input  row number  col number   \n",
            "1  zillow.csv   teradata          20           7   \n",
            "2  zillow.csv  snowflake          20           7   \n",
            "3        file      input  row number  col number   \n",
            "4   homes.csv   teradata          50           9   \n",
            "5   homes.csv  snowflake          50           9   \n",
            "6        file      input  row number  col number   \n",
            "7  cities.csv   teradata         128          10   \n",
            "8  cities.csv  snowflake         126          10   \n",
            "\n",
            "                                                   4            5  \n",
            "0                                          col names  validataion  \n",
            "1  [Index,  \"Living Space (sq ft)\",  \"Beds\",  \"Ba...               \n",
            "2  [Index,  \"Living Space\",  \"Beds\",  \"Baths\",  \"...         Fail  \n",
            "3                                          col names  validataion  \n",
            "4  [Sell,  \"List\",  \"Living\",  \"Rooms\",  \"Beds\", ...               \n",
            "5  [Sell,  \"List\",  \"Living\",  \"Rooms\",  \"Beds\", ...         Pass  \n",
            "6                                          col names  validataion  \n",
            "7  [LatD,  \"LatM\",  \"LatS\",  \"NS\",  \"LonD\",  \"Lon...               \n",
            "8  [LatD,  \"LatM\",  \"LatS\",  \"NS\",  \"LonD\",  \"Lon...         Fail  \n",
            "18\n",
            "18\n",
            "5\n",
            "4\n",
            "['Name', '     \"Sex\"', ' \"Age\"', ' \"Height (in)\"', ' \"Weight (lbs)\"']\n",
            "['Name', ' \"Age\"', ' \"Height (in)\"', ' \"Weight (lbs)\"']\n",
            "              0          1           2           3  \\\n",
            "0          file      input  row number  col number   \n",
            "1  biostats.csv   teradata          18           5   \n",
            "2  biostats.csv  snowflake          18           4   \n",
            "\n",
            "                                                   4            5  \n",
            "0                                          col names  validataion  \n",
            "1  [Name,      \"Sex\",  \"Age\",  \"Height (in)\",  \"W...               \n",
            "2    [Name,  \"Age\",  \"Height (in)\",  \"Weight (lbs)\"]         Fail  \n",
            "               0          1           2           3  \\\n",
            "0           file      input  row number  col number   \n",
            "1     zillow.csv   teradata          20           7   \n",
            "2     zillow.csv  snowflake          20           7   \n",
            "3           file      input  row number  col number   \n",
            "4      homes.csv   teradata          50           9   \n",
            "5      homes.csv  snowflake          50           9   \n",
            "6           file      input  row number  col number   \n",
            "7     cities.csv   teradata         128          10   \n",
            "8     cities.csv  snowflake         126          10   \n",
            "9           file      input  row number  col number   \n",
            "10  biostats.csv   teradata          18           5   \n",
            "11  biostats.csv  snowflake          18           4   \n",
            "\n",
            "                                                    4            5  \n",
            "0                                           col names  validataion  \n",
            "1   [Index,  \"Living Space (sq ft)\",  \"Beds\",  \"Ba...               \n",
            "2   [Index,  \"Living Space\",  \"Beds\",  \"Baths\",  \"...         Fail  \n",
            "3                                           col names  validataion  \n",
            "4   [Sell,  \"List\",  \"Living\",  \"Rooms\",  \"Beds\", ...               \n",
            "5   [Sell,  \"List\",  \"Living\",  \"Rooms\",  \"Beds\", ...         Pass  \n",
            "6                                           col names  validataion  \n",
            "7   [LatD,  \"LatM\",  \"LatS\",  \"NS\",  \"LonD\",  \"Lon...               \n",
            "8   [LatD,  \"LatM\",  \"LatS\",  \"NS\",  \"LonD\",  \"Lon...         Fail  \n",
            "9                                           col names  validataion  \n",
            "10  [Name,      \"Sex\",  \"Age\",  \"Height (in)\",  \"W...               \n",
            "11    [Name,  \"Age\",  \"Height (in)\",  \"Weight (lbs)\"]         Fail  \n"
          ]
        }
      ]
    },
    {
      "cell_type": "markdown",
      "source": [
        "# New Section"
      ],
      "metadata": {
        "id": "NdAqIWDMAr24"
      }
    },
    {
      "cell_type": "code",
      "source": [
        ""
      ],
      "metadata": {
        "id": "0-hPfG7PqblK"
      },
      "execution_count": null,
      "outputs": []
    }
  ]
}