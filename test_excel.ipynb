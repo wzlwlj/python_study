{
  "nbformat": 4,
  "nbformat_minor": 0,
  "metadata": {
    "colab": {
      "name": "test_excel.ipynb",
      "provenance": [],
      "authorship_tag": "ABX9TyOISPwFPgIUOHEoNOJsJH2Y",
      "include_colab_link": true
    },
    "kernelspec": {
      "name": "python3",
      "display_name": "Python 3"
    },
    "language_info": {
      "name": "python"
    }
  },
  "cells": [
    {
      "cell_type": "markdown",
      "metadata": {
        "id": "view-in-github",
        "colab_type": "text"
      },
      "source": [
        "<a href=\"https://colab.research.google.com/github/wzlwlj/python_study/blob/main/test_excel.ipynb\" target=\"_parent\"><img src=\"https://colab.research.google.com/assets/colab-badge.svg\" alt=\"Open In Colab\"/></a>"
      ]
    },
    {
      "cell_type": "code",
      "execution_count": 9,
      "metadata": {
        "colab": {
          "base_uri": "https://localhost:8080/"
        },
        "id": "HNpMV_aks78y",
        "outputId": "9364fae2-21e7-42fe-db2c-592734bf2091"
      },
      "outputs": [
        {
          "output_type": "stream",
          "name": "stdout",
          "text": [
            "Drive already mounted at /content/drive; to attempt to forcibly remount, call drive.mount(\"/content/drive\", force_remount=True).\n",
            "['test_TD.xlsx', 'test_SF.xlsx']\n"
          ]
        }
      ],
      "source": [
        "import pandas as pd\n",
        "import numpy as np\n",
        "import os\n",
        "# dir_name = \"/content/drive/mydrive/colabe notebooks/bcbsnc\"\n",
        "from google.colab import drive\n",
        "drive.mount('/content/drive')\n",
        "\n",
        "# read a file\n",
        "dir_name = \"/content/drive/MyDrive/Colab Notebooks/BCBSNC/file\"\n",
        "print(os.listdir(dir_name))"
      ]
    },
    {
      "cell_type": "code",
      "source": [
        "test_td = pd.ExcelFile(dir_name + '/' + 'test_TD.xlsx')\n",
        "# print(test_td)\n",
        "test_td.sheet_names\n",
        "\n",
        "test_td_sheet1 = pd.read_excel(dir_name + '/' + 'test_TD.xlsx', test_td.sheet_names[0])\n",
        "test_td_sheet2 = pd.read_excel(dir_name + '/' + 'test_TD.xlsx', test_td.sheet_names[1])\n",
        "print(test_td_sheet1)\n",
        "print(test_td_sheet2)\n",
        "\n",
        "test_sf_sheet1 = pd.read_excel(dir_name + '/' + 'test_SF.xlsx', test_td.sheet_names[0])\n",
        "test_sf_sheet2 = pd.read_excel(dir_name + '/' + 'test_SF.xlsx', test_td.sheet_names[1])\n",
        "print(test_sf_sheet1)\n",
        "print(test_sf_sheet2)"
      ],
      "metadata": {
        "colab": {
          "base_uri": "https://localhost:8080/"
        },
        "id": "u_5WsQpytgVV",
        "outputId": "1eb6b3e8-78ac-4fb1-80fc-a251d74a5804"
      },
      "execution_count": 14,
      "outputs": [
        {
          "output_type": "stream",
          "name": "stdout",
          "text": [
            "    Name       \"Sex\"   \"Age\"   \"Height (in)\"   \"Weight (lbs)\"\n",
            "0   Alex         \"M\"      41              74              170\n",
            "1   Bert         \"M\"      42              68              166\n",
            "2   Carl         \"M\"      32              70              155\n",
            "3   Dave         \"M\"      39              72              167\n",
            "4   Elly         \"F\"      30              66              124\n",
            "5   Fran         \"F\"      33              66              115\n",
            "6   Gwen         \"F\"      26              64              121\n",
            "7   Hank         \"M\"      30              71              158\n",
            "8   Ivan         \"M\"      53              72              175\n",
            "9   Jake         \"M\"      32              69              143\n",
            "10  Kate         \"F\"      47              69              139\n",
            "11  Luke         \"M\"      34              72              163\n",
            "12  Myra         \"F\"      23              62               98\n",
            "13  Neil         \"M\"      36              75              160\n",
            "14  Omar         \"M\"      38              70              145\n",
            "15  Page         \"F\"      31              67              135\n",
            "16  Quin         \"M\"      29              71              176\n",
            "17  Ruth         \"F\"      28              65              131\n",
            "     LatD   \"LatM\"   \"LatS\"  \"NS\"   \"LonD\"   \"LonM\"   \"LonS\"  \"EW\"  \\\n",
            "0      41        5       59   \"N\"       80       39        0   \"W\"   \n",
            "1      42       52       48   \"N\"       97       23       23   \"W\"   \n",
            "2      46       35       59   \"N\"      120       30       36   \"W\"   \n",
            "3      42       16       12   \"N\"       71       48        0   \"W\"   \n",
            "4      43       37       48   \"N\"       89       46       11   \"W\"   \n",
            "..    ...      ...      ...   ...      ...      ...      ...   ...   \n",
            "123    39       31       12   \"N\"      119       48       35   \"W\"   \n",
            "124    50       25       11   \"N\"      104       39        0   \"W\"   \n",
            "125    40       10       48   \"N\"      122       14       23   \"W\"   \n",
            "126    40       19       48   \"N\"       75       55       48   \"W\"   \n",
            "127    41        9       35   \"N\"       81       14       23   \"W\"   \n",
            "\n",
            "                 \"City\"  \"State\"  \n",
            "0          \"Youngstown\"       OH  \n",
            "1             \"Yankton\"       SD  \n",
            "2              \"Yakima\"       WA  \n",
            "3           \"Worcester\"       MA  \n",
            "4     \"Wisconsin Dells\"       WI  \n",
            "..                  ...      ...  \n",
            "123              \"Reno\"       NV  \n",
            "124            \"Regina\"       SA  \n",
            "125         \"Red Bluff\"       CA  \n",
            "126           \"Reading\"       PA  \n",
            "127           \"Ravenna\"      OH   \n",
            "\n",
            "[128 rows x 10 columns]\n",
            "    Name   \"Age\"   \"Height (in)\"   \"Weight (lbs)\"\n",
            "0   Alex      41              74              170\n",
            "1   Bert      42              68              166\n",
            "2   Carl      32              70              155\n",
            "3   Dave      39              72              167\n",
            "4   Elly      30              66              124\n",
            "5   Fran      33              66              115\n",
            "6   Gwen      26              64              121\n",
            "7   Hank      30              71              158\n",
            "8   Ivan      53              72              175\n",
            "9   Jake      32              69              143\n",
            "10  Kate      47              69              139\n",
            "11  Luke      34              72              163\n",
            "12  Myra      23              62               98\n",
            "13  Neil      36              75              160\n",
            "14  Omar      38              70              145\n",
            "15  Page      31              67              135\n",
            "16  Quin      29              71              176\n",
            "17  Ruth      28              65              131\n",
            "     LatD   \"LatM\"   \"LatS\"  \"NS\"   \"LonD\"   \"LonM\"   \"LonS\"  \"EW\"  \\\n",
            "0      41        5       59   \"N\"       80       39        0   \"W\"   \n",
            "1      42       52       48   \"N\"       97       23       23   \"W\"   \n",
            "2      46       35       59   \"N\"      120       30       36   \"W\"   \n",
            "3      42       16       12   \"N\"       71       48        0   \"W\"   \n",
            "4      43       37       48   \"N\"       89       46       11   \"W\"   \n",
            "..    ...      ...      ...   ...      ...      ...      ...   ...   \n",
            "121    39       31       12   \"N\"      119       48       35   \"W\"   \n",
            "122    50       25       11   \"N\"      104       39        0   \"W\"   \n",
            "123    40       10       48   \"N\"      122       14       23   \"W\"   \n",
            "124    40       19       48   \"N\"       75       55       48   \"W\"   \n",
            "125    41        9       35   \"N\"       81       14       23   \"W\"   \n",
            "\n",
            "                 \"City\"  \"State\"  \n",
            "0          \"Youngstown\"       OH  \n",
            "1             \"Yankton\"       SD  \n",
            "2              \"Yakima\"       WA  \n",
            "3           \"Worcester\"       MA  \n",
            "4     \"Wisconsin Dells\"       WI  \n",
            "..                  ...      ...  \n",
            "121              \"Reno\"       NV  \n",
            "122            \"Regina\"       SA  \n",
            "123         \"Red Bluff\"       CA  \n",
            "124           \"Reading\"       PA  \n",
            "125           \"Ravenna\"      OH   \n",
            "\n",
            "[126 rows x 10 columns]\n"
          ]
        }
      ]
    },
    {
      "cell_type": "code",
      "source": [
        "dir_name_output = \"/content/drive/MyDrive/Colab Notebooks/BCBSNC/output\"\n",
        "\n",
        "df_valid = pd.DataFrame()\n",
        "\n",
        "# specifying an empty list for content\n",
        "content_teradata = []\n",
        "for file in test_td.sheet_names:\n",
        "  # print(dir_name_teradata+'/'+file)\n",
        "  df_teradata = pd.read_excel(dir_name + '/' + 'test_TD.xlsx', file)\n",
        "  #print(df_teradata)\n",
        "  df_snowflake = pd.read_excel(dir_name + '/' + 'test_SF.xlsx', file)\n",
        "  #print(df_snowflake)\n",
        "\n",
        "  ## compare the same data from the runs of teradata and snowflake\n",
        "  # check row number \n",
        "  nrow_teradata = df_teradata.shape[0]\n",
        "  print(nrow_teradata)\n",
        "  nrow_snowflake = df_snowflake.shape[0]\n",
        "  print(nrow_snowflake)\n",
        "  # check col number\n",
        "  ncol_teradata = df_teradata.shape[1]\n",
        "  print(ncol_teradata)\n",
        "  ncol_snowflake = df_snowflake.shape[1]\n",
        "  print(ncol_snowflake)\n",
        "  # check col name\n",
        "  col_name_teradata = df_teradata.columns.values.tolist()\n",
        "  print(col_name_teradata)\n",
        "  col_name_snowflake = df_snowflake.columns.values.tolist()\n",
        "  print(col_name_snowflake)\n",
        "\n",
        "  validate_snowflake = 'Pass'\n",
        "  if (nrow_teradata != nrow_snowflake or ncol_teradata != ncol_snowflake or col_name_teradata != col_name_snowflake):\n",
        "    validate_snowflake = 'Fail'\n",
        "\n",
        "  item_compare = (['file', 'input', 'row number', 'col number', 'col names', 'validataion'])\n",
        "  # print(item_compare)\n",
        "  item_teradata = ([file,'teradata', nrow_teradata,ncol_teradata,col_name_teradata,''])\n",
        "  item_snowflake = ([file,'snowflake', nrow_snowflake,ncol_snowflake,col_name_snowflake, validate_snowflake])\n",
        "  output = pd.DataFrame([item_compare, item_teradata, item_snowflake])\n",
        "  print(output)\n",
        "  df_valid = pd.concat([df_valid, output], ignore_index=True)\n",
        "  print(df_valid)\n",
        "\n",
        "\n",
        "df_valid.to_excel(dir_name_output+'/validation.xlsx')"
      ],
      "metadata": {
        "colab": {
          "base_uri": "https://localhost:8080/"
        },
        "id": "PHQlYsNYd4_w",
        "outputId": "37492171-5316-470d-86c3-95e46d05cb41"
      },
      "execution_count": 7,
      "outputs": [
        {
          "output_type": "stream",
          "name": "stdout",
          "text": [
            "18\n",
            "18\n",
            "5\n",
            "4\n",
            "['Name', '     \"Sex\"', ' \"Age\"', ' \"Height (in)\"', ' \"Weight (lbs)\"']\n",
            "['Name', ' \"Age\"', ' \"Height (in)\"', ' \"Weight (lbs)\"']\n",
            "          0          1           2           3  \\\n",
            "0      file      input  row number  col number   \n",
            "1  biostats   teradata          18           5   \n",
            "2  biostats  snowflake          18           4   \n",
            "\n",
            "                                                   4            5  \n",
            "0                                          col names  validataion  \n",
            "1  [Name,      \"Sex\",  \"Age\",  \"Height (in)\",  \"W...               \n",
            "2    [Name,  \"Age\",  \"Height (in)\",  \"Weight (lbs)\"]         Fail  \n",
            "          0          1           2           3  \\\n",
            "0      file      input  row number  col number   \n",
            "1  biostats   teradata          18           5   \n",
            "2  biostats  snowflake          18           4   \n",
            "\n",
            "                                                   4            5  \n",
            "0                                          col names  validataion  \n",
            "1  [Name,      \"Sex\",  \"Age\",  \"Height (in)\",  \"W...               \n",
            "2    [Name,  \"Age\",  \"Height (in)\",  \"Weight (lbs)\"]         Fail  \n",
            "128\n",
            "126\n",
            "10\n",
            "10\n",
            "['LatD', ' \"LatM\"', ' \"LatS\"', ' \"NS\"', ' \"LonD\"', ' \"LonM\"', ' \"LonS\"', ' \"EW\"', ' \"City\"', ' \"State\"']\n",
            "['LatD', ' \"LatM\"', ' \"LatS\"', ' \"NS\"', ' \"LonD\"', ' \"LonM\"', ' \"LonS\"', ' \"EW\"', ' \"City\"', ' \"State\"']\n",
            "        0          1           2           3  \\\n",
            "0    file      input  row number  col number   \n",
            "1  cities   teradata         128          10   \n",
            "2  cities  snowflake         126          10   \n",
            "\n",
            "                                                   4            5  \n",
            "0                                          col names  validataion  \n",
            "1  [LatD,  \"LatM\",  \"LatS\",  \"NS\",  \"LonD\",  \"Lon...               \n",
            "2  [LatD,  \"LatM\",  \"LatS\",  \"NS\",  \"LonD\",  \"Lon...         Fail  \n",
            "          0          1           2           3  \\\n",
            "0      file      input  row number  col number   \n",
            "1  biostats   teradata          18           5   \n",
            "2  biostats  snowflake          18           4   \n",
            "3      file      input  row number  col number   \n",
            "4    cities   teradata         128          10   \n",
            "5    cities  snowflake         126          10   \n",
            "\n",
            "                                                   4            5  \n",
            "0                                          col names  validataion  \n",
            "1  [Name,      \"Sex\",  \"Age\",  \"Height (in)\",  \"W...               \n",
            "2    [Name,  \"Age\",  \"Height (in)\",  \"Weight (lbs)\"]         Fail  \n",
            "3                                          col names  validataion  \n",
            "4  [LatD,  \"LatM\",  \"LatS\",  \"NS\",  \"LonD\",  \"Lon...               \n",
            "5  [LatD,  \"LatM\",  \"LatS\",  \"NS\",  \"LonD\",  \"Lon...         Fail  \n"
          ]
        }
      ]
    },
    {
      "cell_type": "code",
      "source": [
        "dir_name_output = \"/content/drive/MyDrive/Colab Notebooks/BCBSNC/output\"\n",
        "\n",
        "df_valid = pd.DataFrame()\n",
        "\n",
        "# specifying an empty list for content\n",
        "content_teradata = []\n",
        "for file in test_td.sheet_names[1]:\n",
        "  # print(dir_name_teradata+'/'+file)\n",
        "  df1 = pd.read_excel(dir_name + '/' + 'test_TD.xlsx', file)\n",
        "  print(df1)\n",
        "  df2 = pd.read_excel(dir_name + '/' + 'test_SF.xlsx', file)\n",
        "  print(df2)\n",
        "\n",
        "  ## compare shape and type\n",
        "  df1.equals(df2)\n",
        "\n",
        "  ## compare values\n",
        "  comparison_values = df1.values == df2.values\n",
        "  print (comparison_values)\n",
        "\n",
        "  #rows,cols=np.where(comparison_values==False)\n",
        "  #for item in zip(rows,cols):\n",
        "  #  df1.iloc[item[0], item[1]] = '{} --> {}'.format(df1.iloc[item[0], item[1]],df2.iloc[item[0], item[1]])\n",
        "  #print(df1)"
      ],
      "metadata": {
        "colab": {
          "base_uri": "https://localhost:8080/",
          "height": 380
        },
        "id": "_U8mXiJbfbd2",
        "outputId": "2e97d9e6-3dd0-4e3d-bd77-b65ac1c34cef"
      },
      "execution_count": 13,
      "outputs": [
        {
          "output_type": "error",
          "ename": "ValueError",
          "evalue": "ignored",
          "traceback": [
            "\u001b[0;31m---------------------------------------------------------------------------\u001b[0m",
            "\u001b[0;31mValueError\u001b[0m                                Traceback (most recent call last)",
            "\u001b[0;32m<ipython-input-13-eedf90763f0e>\u001b[0m in \u001b[0;36m<module>\u001b[0;34m()\u001b[0m\n\u001b[1;32m      7\u001b[0m \u001b[0;32mfor\u001b[0m \u001b[0mfile\u001b[0m \u001b[0;32min\u001b[0m \u001b[0mtest_td\u001b[0m\u001b[0;34m.\u001b[0m\u001b[0msheet_names\u001b[0m\u001b[0;34m[\u001b[0m\u001b[0;36m1\u001b[0m\u001b[0;34m]\u001b[0m\u001b[0;34m:\u001b[0m\u001b[0;34m\u001b[0m\u001b[0;34m\u001b[0m\u001b[0m\n\u001b[1;32m      8\u001b[0m   \u001b[0;31m# print(dir_name_teradata+'/'+file)\u001b[0m\u001b[0;34m\u001b[0m\u001b[0;34m\u001b[0m\u001b[0;34m\u001b[0m\u001b[0m\n\u001b[0;32m----> 9\u001b[0;31m   \u001b[0mdf1\u001b[0m \u001b[0;34m=\u001b[0m \u001b[0mpd\u001b[0m\u001b[0;34m.\u001b[0m\u001b[0mread_excel\u001b[0m\u001b[0;34m(\u001b[0m\u001b[0mdir_name\u001b[0m \u001b[0;34m+\u001b[0m \u001b[0;34m'/'\u001b[0m \u001b[0;34m+\u001b[0m \u001b[0;34m'test_TD.xlsx'\u001b[0m\u001b[0;34m,\u001b[0m \u001b[0mfile\u001b[0m\u001b[0;34m)\u001b[0m\u001b[0;34m\u001b[0m\u001b[0;34m\u001b[0m\u001b[0m\n\u001b[0m\u001b[1;32m     10\u001b[0m   \u001b[0mprint\u001b[0m\u001b[0;34m(\u001b[0m\u001b[0mdf1\u001b[0m\u001b[0;34m)\u001b[0m\u001b[0;34m\u001b[0m\u001b[0;34m\u001b[0m\u001b[0m\n\u001b[1;32m     11\u001b[0m   \u001b[0mdf2\u001b[0m \u001b[0;34m=\u001b[0m \u001b[0mpd\u001b[0m\u001b[0;34m.\u001b[0m\u001b[0mread_excel\u001b[0m\u001b[0;34m(\u001b[0m\u001b[0mdir_name\u001b[0m \u001b[0;34m+\u001b[0m \u001b[0;34m'/'\u001b[0m \u001b[0;34m+\u001b[0m \u001b[0;34m'test_SF.xlsx'\u001b[0m\u001b[0;34m,\u001b[0m \u001b[0mfile\u001b[0m\u001b[0;34m)\u001b[0m\u001b[0;34m\u001b[0m\u001b[0;34m\u001b[0m\u001b[0m\n",
            "\u001b[0;32m/usr/local/lib/python3.7/dist-packages/pandas/util/_decorators.py\u001b[0m in \u001b[0;36mwrapper\u001b[0;34m(*args, **kwargs)\u001b[0m\n\u001b[1;32m    309\u001b[0m                     \u001b[0mstacklevel\u001b[0m\u001b[0;34m=\u001b[0m\u001b[0mstacklevel\u001b[0m\u001b[0;34m,\u001b[0m\u001b[0;34m\u001b[0m\u001b[0;34m\u001b[0m\u001b[0m\n\u001b[1;32m    310\u001b[0m                 )\n\u001b[0;32m--> 311\u001b[0;31m             \u001b[0;32mreturn\u001b[0m \u001b[0mfunc\u001b[0m\u001b[0;34m(\u001b[0m\u001b[0;34m*\u001b[0m\u001b[0margs\u001b[0m\u001b[0;34m,\u001b[0m \u001b[0;34m**\u001b[0m\u001b[0mkwargs\u001b[0m\u001b[0;34m)\u001b[0m\u001b[0;34m\u001b[0m\u001b[0;34m\u001b[0m\u001b[0m\n\u001b[0m\u001b[1;32m    312\u001b[0m \u001b[0;34m\u001b[0m\u001b[0m\n\u001b[1;32m    313\u001b[0m         \u001b[0;32mreturn\u001b[0m \u001b[0mwrapper\u001b[0m\u001b[0;34m\u001b[0m\u001b[0;34m\u001b[0m\u001b[0m\n",
            "\u001b[0;32m/usr/local/lib/python3.7/dist-packages/pandas/io/excel/_base.py\u001b[0m in \u001b[0;36mread_excel\u001b[0;34m(io, sheet_name, header, names, index_col, usecols, squeeze, dtype, engine, converters, true_values, false_values, skiprows, nrows, na_values, keep_default_na, na_filter, verbose, parse_dates, date_parser, thousands, comment, skipfooter, convert_float, mangle_dupe_cols, storage_options)\u001b[0m\n\u001b[1;32m    393\u001b[0m             \u001b[0mskipfooter\u001b[0m\u001b[0;34m=\u001b[0m\u001b[0mskipfooter\u001b[0m\u001b[0;34m,\u001b[0m\u001b[0;34m\u001b[0m\u001b[0;34m\u001b[0m\u001b[0m\n\u001b[1;32m    394\u001b[0m             \u001b[0mconvert_float\u001b[0m\u001b[0;34m=\u001b[0m\u001b[0mconvert_float\u001b[0m\u001b[0;34m,\u001b[0m\u001b[0;34m\u001b[0m\u001b[0;34m\u001b[0m\u001b[0m\n\u001b[0;32m--> 395\u001b[0;31m             \u001b[0mmangle_dupe_cols\u001b[0m\u001b[0;34m=\u001b[0m\u001b[0mmangle_dupe_cols\u001b[0m\u001b[0;34m,\u001b[0m\u001b[0;34m\u001b[0m\u001b[0;34m\u001b[0m\u001b[0m\n\u001b[0m\u001b[1;32m    396\u001b[0m         )\n\u001b[1;32m    397\u001b[0m     \u001b[0;32mfinally\u001b[0m\u001b[0;34m:\u001b[0m\u001b[0;34m\u001b[0m\u001b[0;34m\u001b[0m\u001b[0m\n",
            "\u001b[0;32m/usr/local/lib/python3.7/dist-packages/pandas/io/excel/_base.py\u001b[0m in \u001b[0;36mparse\u001b[0;34m(self, sheet_name, header, names, index_col, usecols, squeeze, converters, true_values, false_values, skiprows, nrows, na_values, parse_dates, date_parser, thousands, comment, skipfooter, convert_float, mangle_dupe_cols, **kwds)\u001b[0m\n\u001b[1;32m   1290\u001b[0m             \u001b[0mconvert_float\u001b[0m\u001b[0;34m=\u001b[0m\u001b[0mconvert_float\u001b[0m\u001b[0;34m,\u001b[0m\u001b[0;34m\u001b[0m\u001b[0;34m\u001b[0m\u001b[0m\n\u001b[1;32m   1291\u001b[0m             \u001b[0mmangle_dupe_cols\u001b[0m\u001b[0;34m=\u001b[0m\u001b[0mmangle_dupe_cols\u001b[0m\u001b[0;34m,\u001b[0m\u001b[0;34m\u001b[0m\u001b[0;34m\u001b[0m\u001b[0m\n\u001b[0;32m-> 1292\u001b[0;31m             \u001b[0;34m**\u001b[0m\u001b[0mkwds\u001b[0m\u001b[0;34m,\u001b[0m\u001b[0;34m\u001b[0m\u001b[0;34m\u001b[0m\u001b[0m\n\u001b[0m\u001b[1;32m   1293\u001b[0m         )\n\u001b[1;32m   1294\u001b[0m \u001b[0;34m\u001b[0m\u001b[0m\n",
            "\u001b[0;32m/usr/local/lib/python3.7/dist-packages/pandas/io/excel/_base.py\u001b[0m in \u001b[0;36mparse\u001b[0;34m(self, sheet_name, header, names, index_col, usecols, squeeze, dtype, true_values, false_values, skiprows, nrows, na_values, verbose, parse_dates, date_parser, thousands, comment, skipfooter, convert_float, mangle_dupe_cols, **kwds)\u001b[0m\n\u001b[1;32m    533\u001b[0m \u001b[0;34m\u001b[0m\u001b[0m\n\u001b[1;32m    534\u001b[0m             \u001b[0;32mif\u001b[0m \u001b[0misinstance\u001b[0m\u001b[0;34m(\u001b[0m\u001b[0masheetname\u001b[0m\u001b[0;34m,\u001b[0m \u001b[0mstr\u001b[0m\u001b[0;34m)\u001b[0m\u001b[0;34m:\u001b[0m\u001b[0;34m\u001b[0m\u001b[0;34m\u001b[0m\u001b[0m\n\u001b[0;32m--> 535\u001b[0;31m                 \u001b[0msheet\u001b[0m \u001b[0;34m=\u001b[0m \u001b[0mself\u001b[0m\u001b[0;34m.\u001b[0m\u001b[0mget_sheet_by_name\u001b[0m\u001b[0;34m(\u001b[0m\u001b[0masheetname\u001b[0m\u001b[0;34m)\u001b[0m\u001b[0;34m\u001b[0m\u001b[0;34m\u001b[0m\u001b[0m\n\u001b[0m\u001b[1;32m    536\u001b[0m             \u001b[0;32melse\u001b[0m\u001b[0;34m:\u001b[0m  \u001b[0;31m# assume an integer if not a string\u001b[0m\u001b[0;34m\u001b[0m\u001b[0;34m\u001b[0m\u001b[0m\n\u001b[1;32m    537\u001b[0m                 \u001b[0msheet\u001b[0m \u001b[0;34m=\u001b[0m \u001b[0mself\u001b[0m\u001b[0;34m.\u001b[0m\u001b[0mget_sheet_by_index\u001b[0m\u001b[0;34m(\u001b[0m\u001b[0masheetname\u001b[0m\u001b[0;34m)\u001b[0m\u001b[0;34m\u001b[0m\u001b[0;34m\u001b[0m\u001b[0m\n",
            "\u001b[0;32m/usr/local/lib/python3.7/dist-packages/pandas/io/excel/_openpyxl.py\u001b[0m in \u001b[0;36mget_sheet_by_name\u001b[0;34m(self, name)\u001b[0m\n\u001b[1;32m    540\u001b[0m \u001b[0;34m\u001b[0m\u001b[0m\n\u001b[1;32m    541\u001b[0m     \u001b[0;32mdef\u001b[0m \u001b[0mget_sheet_by_name\u001b[0m\u001b[0;34m(\u001b[0m\u001b[0mself\u001b[0m\u001b[0;34m,\u001b[0m \u001b[0mname\u001b[0m\u001b[0;34m:\u001b[0m \u001b[0mstr\u001b[0m\u001b[0;34m)\u001b[0m\u001b[0;34m:\u001b[0m\u001b[0;34m\u001b[0m\u001b[0;34m\u001b[0m\u001b[0m\n\u001b[0;32m--> 542\u001b[0;31m         \u001b[0mself\u001b[0m\u001b[0;34m.\u001b[0m\u001b[0mraise_if_bad_sheet_by_name\u001b[0m\u001b[0;34m(\u001b[0m\u001b[0mname\u001b[0m\u001b[0;34m)\u001b[0m\u001b[0;34m\u001b[0m\u001b[0;34m\u001b[0m\u001b[0m\n\u001b[0m\u001b[1;32m    543\u001b[0m         \u001b[0;32mreturn\u001b[0m \u001b[0mself\u001b[0m\u001b[0;34m.\u001b[0m\u001b[0mbook\u001b[0m\u001b[0;34m[\u001b[0m\u001b[0mname\u001b[0m\u001b[0;34m]\u001b[0m\u001b[0;34m\u001b[0m\u001b[0;34m\u001b[0m\u001b[0m\n\u001b[1;32m    544\u001b[0m \u001b[0;34m\u001b[0m\u001b[0m\n",
            "\u001b[0;32m/usr/local/lib/python3.7/dist-packages/pandas/io/excel/_base.py\u001b[0m in \u001b[0;36mraise_if_bad_sheet_by_name\u001b[0;34m(self, name)\u001b[0m\n\u001b[1;32m    472\u001b[0m     \u001b[0;32mdef\u001b[0m \u001b[0mraise_if_bad_sheet_by_name\u001b[0m\u001b[0;34m(\u001b[0m\u001b[0mself\u001b[0m\u001b[0;34m,\u001b[0m \u001b[0mname\u001b[0m\u001b[0;34m:\u001b[0m \u001b[0mstr\u001b[0m\u001b[0;34m)\u001b[0m \u001b[0;34m->\u001b[0m \u001b[0;32mNone\u001b[0m\u001b[0;34m:\u001b[0m\u001b[0;34m\u001b[0m\u001b[0;34m\u001b[0m\u001b[0m\n\u001b[1;32m    473\u001b[0m         \u001b[0;32mif\u001b[0m \u001b[0mname\u001b[0m \u001b[0;32mnot\u001b[0m \u001b[0;32min\u001b[0m \u001b[0mself\u001b[0m\u001b[0;34m.\u001b[0m\u001b[0msheet_names\u001b[0m\u001b[0;34m:\u001b[0m\u001b[0;34m\u001b[0m\u001b[0;34m\u001b[0m\u001b[0m\n\u001b[0;32m--> 474\u001b[0;31m             \u001b[0;32mraise\u001b[0m \u001b[0mValueError\u001b[0m\u001b[0;34m(\u001b[0m\u001b[0;34mf\"Worksheet named '{name}' not found\"\u001b[0m\u001b[0;34m)\u001b[0m\u001b[0;34m\u001b[0m\u001b[0;34m\u001b[0m\u001b[0m\n\u001b[0m\u001b[1;32m    475\u001b[0m \u001b[0;34m\u001b[0m\u001b[0m\n\u001b[1;32m    476\u001b[0m     def parse(\n",
            "\u001b[0;31mValueError\u001b[0m: Worksheet named 'c' not found"
          ]
        }
      ]
    }
  ]
}